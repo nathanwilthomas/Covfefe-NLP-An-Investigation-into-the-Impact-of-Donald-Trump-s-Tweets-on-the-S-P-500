{
 "cells": [
  {
   "cell_type": "code",
   "execution_count": 152,
   "metadata": {},
   "outputs": [],
   "source": [
    "sen = \"I love dogs and sharks and kangaroos\"\n",
    "\n",
    "def LongestWord(sen):\n",
    "    s = sen.split()\n",
    "    all_len = [len(word) for word in s]\n",
    "    max_len = max(all_len)\n",
    "\n",
    "    list1 = []\n",
    "    for i in s:\n",
    "        if len(i) == max_len:\n",
    "            list1.append(i)\n",
    "            return list1[0]\n",
    "        if len(list1)>1:\n",
    "            return(\"Word = \" + list1[0])"
   ]
  },
  {
   "cell_type": "code",
   "execution_count": 165,
   "metadata": {},
   "outputs": [
    {
     "data": {
      "text/plain": [
       "'kangaroos'"
      ]
     },
     "execution_count": 165,
     "metadata": {},
     "output_type": "execute_result"
    }
   ],
   "source": [
    "pattern = re.compile(\"\\W+\")\n",
    "x = pattern.split(sen)\n",
    "max(x, key=len)"
   ]
  }
 ],
 "metadata": {
  "kernelspec": {
   "display_name": "Python 3",
   "language": "python",
   "name": "python3"
  },
  "language_info": {
   "codemirror_mode": {
    "name": "ipython",
    "version": 3
   },
   "file_extension": ".py",
   "mimetype": "text/x-python",
   "name": "python",
   "nbconvert_exporter": "python",
   "pygments_lexer": "ipython3",
   "version": "3.8.3"
  }
 },
 "nbformat": 4,
 "nbformat_minor": 4
}
