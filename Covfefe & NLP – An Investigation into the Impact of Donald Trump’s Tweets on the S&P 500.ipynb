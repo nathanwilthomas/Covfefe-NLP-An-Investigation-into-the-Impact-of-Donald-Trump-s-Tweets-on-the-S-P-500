{
 "cells": [
  {
   "cell_type": "markdown",
   "metadata": {},
   "source": [
    "![Image](https://www.chevening.org/wp-content/uploads/2019/07/University_of_Bath_logo_svg_.png)"
   ]
  },
  {
   "cell_type": "markdown",
   "metadata": {},
   "source": [
    "This code constitutes the analysis for the dissertation titled: \"Covfefe & NLP – An Investigation into the Impact of Donald Trump’s Tweets on the S&P 500\". \n",
    "\n",
    "All code is written and compiled by Nathan Thomas from the University of Bath, 2021.\n"
   ]
  },
  {
   "cell_type": "code",
   "execution_count": 1,
   "metadata": {},
   "outputs": [],
   "source": [
    "# import the relevant modules\n",
    "\n",
    "import pandas as pd\n",
    "import re\n",
    "%matplotlib inline\n",
    "import matplotlib.pyplot as plt\n",
    "import seaborn as sns\n",
    "from datetime import datetime, timedelta\n",
    "from collections import Counter\n",
    "from nltk.corpus import stopwords\n",
    "from nltk.tokenize import word_tokenize\n",
    "\n",
    "# Retrieve tweets from excel\n",
    "tweets = pd.read_csv(\"C:\\\\Users\\\\natha\\\\OneDrive\\\\Old Documents\\\\University\\\\Uni Work\\\\Final Year\\\\Semester 2\\\\ES30029 - Dissertation\\\\Data\\\\Trump Tweets Full Dataset - 8 Jan 2021.csv\",\n",
    "                     usecols=[1,7])\n",
    "\n",
    "# Change type to string\n",
    "tweets = tweets.astype(str)"
   ]
  },
  {
   "cell_type": "code",
   "execution_count": 2,
   "metadata": {},
   "outputs": [],
   "source": [
    "# get date in terms of mdY\n",
    "\n",
    "\"\"\"Changes the format of the datetime to m/d/Y\"\"\"\n",
    "just_date = lambda x: datetime.strftime(x,\"%m/%d/%Y\")\n",
    "\n",
    "# set dates column to datetime\n",
    "tweets.date = pd.to_datetime(tweets.date)\n",
    "\n",
    "# set dates index\n",
    "tweets.index = tweets.date\n",
    "\n",
    "# rename date column\n",
    "tweets = tweets.rename({\"date\":\"datetime\"}, axis=1)\n",
    "\n",
    "# Get Tweets from 2019-2020 \n",
    "tweets = tweets.loc[\"01/01/2019\":\"02/19/2020\"]"
   ]
  },
  {
   "cell_type": "markdown",
   "metadata": {},
   "source": [
    "## 9418 tweets"
   ]
  },
  {
   "cell_type": "markdown",
   "metadata": {},
   "source": [
    "## Move tweets not posted during MARKET HOURS (Mon-Fri) to the next trading day"
   ]
  },
  {
   "cell_type": "code",
   "execution_count": 3,
   "metadata": {},
   "outputs": [],
   "source": [
    "# move to next day if tweet posted after market hours \n",
    "day_shift = lambda time: time + timedelta(days = 1 if time.hour>16 else 0)\n",
    "\n",
    "\n",
    "tweets[\"datetime\"] = tweets[\"datetime\"].apply(day_shift)"
   ]
  },
  {
   "cell_type": "markdown",
   "metadata": {},
   "source": [
    "## Move tweets posted during WEEKENDS to the next trading day"
   ]
  },
  {
   "cell_type": "code",
   "execution_count": 5,
   "metadata": {},
   "outputs": [],
   "source": [
    "# move to next trading day if tweet posted on Sat or Sun \n",
    "trading_day_shift = lambda time: time + timedelta(days= 7-time.weekday() if 7-time.weekday()<=2 else 0)\n",
    "\n",
    "tweets[\"datetime\"] = tweets[\"datetime\"].apply(trading_day_shift)"
   ]
  },
  {
   "cell_type": "code",
   "execution_count": 7,
   "metadata": {},
   "outputs": [],
   "source": [
    "# Clean tweets\n",
    "convert_datetime = lambda x: x.strftime(\"%m-%d-%Y\")\n",
    "\n",
    "tweets[\"datetime\"] = tweets[\"datetime\"].apply(convert_datetime)\n",
    "tweets.datetime = pd.to_datetime(tweets.datetime)\n",
    "\n",
    "tweets.index = tweets.datetime\n",
    "tweets.index.name = \"date\""
   ]
  },
  {
   "cell_type": "code",
   "execution_count": 9,
   "metadata": {},
   "outputs": [],
   "source": [
    "tweets.index = tweets.datetime\n",
    "tweets.index.name = \"date\""
   ]
  },
  {
   "cell_type": "markdown",
   "metadata": {},
   "source": [
    "## Removing public holidays"
   ]
  },
  {
   "cell_type": "code",
   "execution_count": 10,
   "metadata": {},
   "outputs": [],
   "source": [
    "# Remove Public holidays\n",
    "\n",
    "holidays_2019 = [\"01-01-2019\", \"01-21-2019\",\"02-18-2019\", \"04-18-2019\",\n",
    "\"04-19-2019\", \"05-24-2019\", \"05-27-2019\", \"07-03-2019\",\n",
    "\"07-04-2019\", \"09-02-2019\", \"10-14-2019\", \"11-11-2019\",\n",
    "\"11-28-2019\", \"11-29-2019\", \"12-24-2019\", \"12-25-2019\"]\n",
    "\n",
    "holidays_2020 = [\"01-01-2020\", \"01-20-2020\", \"02-17-2020\", \"04-10-2020\",\n",
    "\"05-25-2020\", \"07-03-2020\", \"07-04-2020\", \"09-07-2020\",\n",
    "\"11-11-2020\", \"11-25-2020\", \"11-26-2020\", \"12-25-2020\"]\n",
    "\n",
    "#  Filter out tweets based on these two lists\n",
    "\n",
    "tweets = tweets[(~tweets.index.isin(holidays_2019)) & (~tweets.index.isin(holidays_2020))]"
   ]
  },
  {
   "cell_type": "markdown",
   "metadata": {},
   "source": [
    "### 8614 tweets"
   ]
  },
  {
   "cell_type": "markdown",
   "metadata": {},
   "source": [
    "## Remove links, non-text data"
   ]
  },
  {
   "cell_type": "code",
   "execution_count": 11,
   "metadata": {},
   "outputs": [],
   "source": [
    "# remove hyperlinks\n",
    "link_remove = lambda x: re.sub(r\"http\\S+\",\"\",x)\n",
    "\n",
    "tweets[\"text\"] = tweets[\"text\"].apply(link_remove)\n",
    "\n",
    "# remove ampersands\n",
    "amp_remove = lambda x: re.sub(r\"&amp\",\"\",x)\n",
    "\n",
    "tweets[\"text\"] = tweets[\"text\"].apply(amp_remove)\n",
    "\n",
    "\n",
    "# Remove RT\n",
    "re_remove = lambda x: re.sub(r\"RT\",\"\",x)\n",
    "\n",
    "tweets[\"text\"] = tweets[\"text\"].apply(re_remove)\n",
    "tweets = tweets[tweets.text!=\"\"]\n"
   ]
  },
  {
   "cell_type": "markdown",
   "metadata": {},
   "source": [
    "### 8332     tweets"
   ]
  },
  {
   "cell_type": "markdown",
   "metadata": {},
   "source": [
    "## Get Market Tweets using bag of words\n",
    "\n"
   ]
  },
  {
   "cell_type": "code",
   "execution_count": null,
   "metadata": {},
   "outputs": [],
   "source": [
    "bag_of_words_econ = [' bear ', ' bull ', \n",
    "                 ' currency ', ' dollar ',\n",
    "                 ' economy ', ' employment ', ' fed ',\n",
    "                ' growth ', ' income ', \n",
    "                ' inflation ', ' interest ', ' jay ',\n",
    "                ' job ', ' market ', ' money ',\n",
    "                ' powell ', ' rally ', ' rate ', ' regulation ',\n",
    "                 ' stimulus ', ' stock ', ' tariff ', \n",
    "                ' tax ', ' trade ', ' unemployment ',\n",
    "               ' Bear ', ' Bull ',\n",
    "                 ' Currency ', ' Dollar ',\n",
    "                 ' Economy ', ' Employment ', ' Fed ',\n",
    "                ' Growth ', ' Income ', \n",
    "                ' Inflation ', ' Interest ', ' Jay ',\n",
    "                ' Job ', ' Market ',\n",
    "                     ' Money ',\n",
    "                ' Powell ', ' Rally ', ' Rate ', ' Regulation ',\n",
    "                ' Stimulus ', ' Stock ', ' Tariff ', \n",
    "                 ' Tax ', ' Trade ', ' Unemployment ']"
   ]
  },
  {
   "cell_type": "code",
   "execution_count": 13,
   "metadata": {},
   "outputs": [],
   "source": [
    "political_bag_of_words = [' bear ', ' bull ', \n",
    "                 ' currency ', ' dollar ',\n",
    "                 ' economy ', ' employment ', ' fed ',\n",
    "                ' growth ', ' income ', \n",
    "                ' inflation ', ' interest ', ' jay ',\n",
    "                ' job ', ' market ', ' money ',\n",
    "                ' powell ', ' rally ', ' rate ', ' regulation ',\n",
    "                 ' stimulus ', ' stock ', ' tariff ', \n",
    "                ' tax ', ' trade ', ' unemployment ',\n",
    "               ' Bear ', ' Bull ',\n",
    "                 ' Currency ', ' Dollar ',\n",
    "                 ' Economy ', ' Employment ', ' Fed ',\n",
    "                ' Growth ', ' Income ', \n",
    "                ' Inflation ', ' Interest ', ' Jay ',\n",
    "                ' Job ', ' Market ',\n",
    "                     ' Money ',\n",
    "                ' Powell ', ' Rally ', ' Rate ', ' Regulation ',\n",
    "                ' Stimulus ', ' Stock ', ' Tariff ', \n",
    "                 ' Tax ', ' Trade ', ' Unemployment ', ' Biden ', ' China ', ' Democrat ', ' Impeach ',\n",
    "                          ' Manipulation ', ' Obama ', ' Poll ', ' Republican ', ' Xi ', ' biden ', ' china ', \n",
    "                          ' democrat ', ' impeach ',\n",
    "                          ' manipulation ', ' obama ', ' poll ', ' republican ', ' xi ']"
   ]
  },
  {
   "cell_type": "markdown",
   "metadata": {},
   "source": [
    "## Filter tweets based on bag of words"
   ]
  },
  {
   "cell_type": "code",
   "execution_count": null,
   "metadata": {},
   "outputs": [],
   "source": [
    "tweets_econ = tweets[tweets[\"text\"].str.contains(\"|\".join(bag_of_words_econ))]\n",
    "tweets_econ"
   ]
  },
  {
   "cell_type": "code",
   "execution_count": 14,
   "metadata": {},
   "outputs": [
    {
     "data": {
      "text/html": [
       "<div>\n",
       "<style scoped>\n",
       "    .dataframe tbody tr th:only-of-type {\n",
       "        vertical-align: middle;\n",
       "    }\n",
       "\n",
       "    .dataframe tbody tr th {\n",
       "        vertical-align: top;\n",
       "    }\n",
       "\n",
       "    .dataframe thead th {\n",
       "        text-align: right;\n",
       "    }\n",
       "</style>\n",
       "<table border=\"1\" class=\"dataframe\">\n",
       "  <thead>\n",
       "    <tr style=\"text-align: right;\">\n",
       "      <th></th>\n",
       "      <th>text</th>\n",
       "      <th>datetime</th>\n",
       "    </tr>\n",
       "    <tr>\n",
       "      <th>date</th>\n",
       "      <th></th>\n",
       "      <th></th>\n",
       "    </tr>\n",
       "  </thead>\n",
       "  <tbody>\n",
       "    <tr>\n",
       "      <th>2019-01-02</th>\n",
       "      <td>Do you think it’s just luck that gas prices ar...</td>\n",
       "      <td>2019-01-02</td>\n",
       "    </tr>\n",
       "    <tr>\n",
       "      <th>2019-01-02</th>\n",
       "      <td>Mexico is paying for the Wall through the new ...</td>\n",
       "      <td>2019-01-02</td>\n",
       "    </tr>\n",
       "    <tr>\n",
       "      <th>2019-01-03</th>\n",
       "      <td>Important meeting today on Border Security wit...</td>\n",
       "      <td>2019-01-03</td>\n",
       "    </tr>\n",
       "    <tr>\n",
       "      <th>2019-01-03</th>\n",
       "      <td>The United States Treasury has taken in MANY b...</td>\n",
       "      <td>2019-01-03</td>\n",
       "    </tr>\n",
       "    <tr>\n",
       "      <th>2019-01-04</th>\n",
       "      <td>Michael Pillsbury interviewed by @cvpayne: “Th...</td>\n",
       "      <td>2019-01-04</td>\n",
       "    </tr>\n",
       "    <tr>\n",
       "      <th>...</th>\n",
       "      <td>...</td>\n",
       "      <td>...</td>\n",
       "    </tr>\n",
       "    <tr>\n",
       "      <th>2020-02-19</th>\n",
       "      <td>.....Mini is illegally buying the Democrat Nom...</td>\n",
       "      <td>2020-02-19</td>\n",
       "    </tr>\n",
       "    <tr>\n",
       "      <th>2020-02-19</th>\n",
       "      <td>@TomFitton: Meanwhile, Obama gang interfered ...</td>\n",
       "      <td>2020-02-19</td>\n",
       "    </tr>\n",
       "    <tr>\n",
       "      <th>2020-02-19</th>\n",
       "      <td>@TomFitton: Over 11 years ago, FBI interviewe...</td>\n",
       "      <td>2020-02-19</td>\n",
       "    </tr>\n",
       "    <tr>\n",
       "      <th>2020-02-19</th>\n",
       "      <td>Highest Stock Market In History, By Far!</td>\n",
       "      <td>2020-02-19</td>\n",
       "    </tr>\n",
       "    <tr>\n",
       "      <th>2020-02-20</th>\n",
       "      <td>Heading to Arizona, big rally and big crowd! #...</td>\n",
       "      <td>2020-02-20</td>\n",
       "    </tr>\n",
       "  </tbody>\n",
       "</table>\n",
       "<p>1492 rows × 2 columns</p>\n",
       "</div>"
      ],
      "text/plain": [
       "                                                         text   datetime\n",
       "date                                                                    \n",
       "2019-01-02  Do you think it’s just luck that gas prices ar... 2019-01-02\n",
       "2019-01-02  Mexico is paying for the Wall through the new ... 2019-01-02\n",
       "2019-01-03  Important meeting today on Border Security wit... 2019-01-03\n",
       "2019-01-03  The United States Treasury has taken in MANY b... 2019-01-03\n",
       "2019-01-04  Michael Pillsbury interviewed by @cvpayne: “Th... 2019-01-04\n",
       "...                                                       ...        ...\n",
       "2020-02-19  .....Mini is illegally buying the Democrat Nom... 2020-02-19\n",
       "2020-02-19   @TomFitton: Meanwhile, Obama gang interfered ... 2020-02-19\n",
       "2020-02-19   @TomFitton: Over 11 years ago, FBI interviewe... 2020-02-19\n",
       "2020-02-19           Highest Stock Market In History, By Far! 2020-02-19\n",
       "2020-02-20  Heading to Arizona, big rally and big crowd! #... 2020-02-20\n",
       "\n",
       "[1492 rows x 2 columns]"
      ]
     },
     "execution_count": 14,
     "metadata": {},
     "output_type": "execute_result"
    }
   ],
   "source": [
    "tweets_pol = tweets[tweets[\"text\"].str.contains(\"|\".join(political_bag_of_words))]\n",
    "tweets_pol"
   ]
  },
  {
   "cell_type": "markdown",
   "metadata": {},
   "source": [
    "## Tokenise & Remove Stopwords"
   ]
  },
  {
   "cell_type": "code",
   "execution_count": 15,
   "metadata": {},
   "outputs": [],
   "source": [
    "def tokenise(sentence):\n",
    "    \"\"\"Removes english stopwords from a string, accounts for lowercase and plurals\"\"\"\n",
    "    stop_words = stopwords.words(\"english\")\n",
    "    stopwords_dict = Counter(stop_words)\n",
    "    text_tokenised = word_tokenize(sentence)\n",
    "    text_without_sw = [word for word in text_tokenised if word.lower() not in stopwords.words()]\n",
    "    text_without_sw = (\" \").join(text_without_sw)\n",
    "    return text_without_sw"
   ]
  },
  {
   "cell_type": "code",
   "execution_count": null,
   "metadata": {},
   "outputs": [],
   "source": [
    "#  Tokenise econ tweets\n",
    "tweets_econ[\"text_tokenised\"] = tweets_econ[\"text\"].apply(tokenise)"
   ]
  },
  {
   "cell_type": "code",
   "execution_count": 16,
   "metadata": {},
   "outputs": [
    {
     "name": "stderr",
     "output_type": "stream",
     "text": [
      "<ipython-input-16-efdb9005fc21>:1: SettingWithCopyWarning: \n",
      "A value is trying to be set on a copy of a slice from a DataFrame.\n",
      "Try using .loc[row_indexer,col_indexer] = value instead\n",
      "\n",
      "See the caveats in the documentation: https://pandas.pydata.org/pandas-docs/stable/user_guide/indexing.html#returning-a-view-versus-a-copy\n",
      "  tweets_pol[\"text_tokenised\"] = tweets_pol[\"text\"].apply(tokenise)\n"
     ]
    }
   ],
   "source": [
    "#  Tokenise political tweets\n",
    "tweets_pol[\"text_tokenised\"] = tweets_pol[\"text\"].apply(tokenise)"
   ]
  },
  {
   "cell_type": "markdown",
   "metadata": {},
   "source": [
    "### Sentiment Analysis (Vader)"
   ]
  },
  {
   "cell_type": "code",
   "execution_count": 17,
   "metadata": {},
   "outputs": [],
   "source": [
    "from vaderSentiment.vaderSentiment import SentimentIntensityAnalyzer\n",
    "\n",
    "analyzer = SentimentIntensityAnalyzer()\n",
    "\n",
    "def get_sentiment(string):\n",
    "    \"\"\"Uses VADER to retrieve the sentiment polarity of a string\"\"\"\n",
    "    sentiment = analyzer.polarity_scores(string).get(\"compound\")\n",
    "    return sentiment"
   ]
  },
  {
   "cell_type": "code",
   "execution_count": null,
   "metadata": {},
   "outputs": [],
   "source": [
    "#  Apply sentiment analysis to sample\n",
    "tweets_econ[\"Sentiment\"] = tweets_econ[\"text_tokenised\"].apply(get_sentiment)"
   ]
  },
  {
   "cell_type": "code",
   "execution_count": 18,
   "metadata": {},
   "outputs": [
    {
     "name": "stderr",
     "output_type": "stream",
     "text": [
      "<ipython-input-18-9146ac2bc196>:1: SettingWithCopyWarning: \n",
      "A value is trying to be set on a copy of a slice from a DataFrame.\n",
      "Try using .loc[row_indexer,col_indexer] = value instead\n",
      "\n",
      "See the caveats in the documentation: https://pandas.pydata.org/pandas-docs/stable/user_guide/indexing.html#returning-a-view-versus-a-copy\n",
      "  tweets_pol[\"Sentiment\"] = tweets_pol[\"text_tokenised\"].apply(get_sentiment)\n"
     ]
    }
   ],
   "source": [
    "#  Political words \n",
    "tweets_pol[\"Sentiment\"] = tweets_pol[\"text_tokenised\"].apply(get_sentiment)"
   ]
  },
  {
   "cell_type": "markdown",
   "metadata": {},
   "source": [
    "## Checking Robustness of VADER Sentiment on a random sample"
   ]
  },
  {
   "cell_type": "code",
   "execution_count": 21,
   "metadata": {},
   "outputs": [],
   "source": [
    "# Get data   \n",
    "tweets_econ_from_excel = pd.read_excel(\"C:\\\\Users\\\\natha\\\\OneDrive\\\\Old Documents\\\\University\\\\Uni Work\\\\Final Year\\\\Semester 2\\\\ES30029 - Dissertation\\\\Data\\\\DISS_DATA.xlsx\",\n",
    "                                       sheet_name = \"Confusion Matrix\",\n",
    "                                       usecols=[1,2])"
   ]
  },
  {
   "cell_type": "code",
   "execution_count": null,
   "metadata": {},
   "outputs": [],
   "source": [
    "# Create random sample, n = 100\n",
    "# tweets_sample_100 = tweets_econ_from_excel.sample(n=100)\n",
    "\n",
    "tweets_sample_100 = tweets_econ_from_excel"
   ]
  },
  {
   "cell_type": "code",
   "execution_count": 25,
   "metadata": {},
   "outputs": [],
   "source": [
    "#  Tokenise random sample\n",
    "tweets_sample_100[\"tokenised\"] = tweets_sample_100[\"text\"].apply(tokenise)"
   ]
  },
  {
   "cell_type": "code",
   "execution_count": 27,
   "metadata": {},
   "outputs": [],
   "source": [
    "#  Apply sentiment analysis to random sample\n",
    "tweets_sample_100[\"Sentiment\"] = tweets_sample_100[\"tokenised\"].apply(get_sentiment)"
   ]
  },
  {
   "cell_type": "markdown",
   "metadata": {},
   "source": [
    "## Creating freq dist chart"
   ]
  },
  {
   "cell_type": "code",
   "execution_count": 66,
   "metadata": {},
   "outputs": [],
   "source": [
    "def tokenise_freq(sentence):\n",
    "    \"\"\"Removes english stopwords from a string, accounts for lowercase and plurals\"\"\"\n",
    "    stop_words = stopwords.words(\"english\")\n",
    "    stopwords_dict = Counter(stop_words)\n",
    "    text_tokenised = word_tokenize(sentence)\n",
    "    text_without_sw = [word for word in text_tokenised if word.lower() not in stopwords.words()]\n",
    "    return text_without_sw"
   ]
  },
  {
   "cell_type": "code",
   "execution_count": 69,
   "metadata": {},
   "outputs": [
    {
     "name": "stderr",
     "output_type": "stream",
     "text": [
      "<ipython-input-69-3ea4b73c40d2>:1: SettingWithCopyWarning: \n",
      "A value is trying to be set on a copy of a slice from a DataFrame.\n",
      "Try using .loc[row_indexer,col_indexer] = value instead\n",
      "\n",
      "See the caveats in the documentation: https://pandas.pydata.org/pandas-docs/stable/user_guide/indexing.html#returning-a-view-versus-a-copy\n",
      "  tweets_econ[\"text_tokenised_freq\"] = tweets_econ[\"text\"].apply(tokenise_freq)\n"
     ]
    }
   ],
   "source": [
    "tweets_econ[\"text_tokenised_freq\"] = tweets_econ[\"text\"].apply(tokenise_freq)"
   ]
  },
  {
   "cell_type": "code",
   "execution_count": 262,
   "metadata": {},
   "outputs": [],
   "source": [
    "import itertools\n",
    "\n",
    "freq_all = list(itertools.chain.from_iterable(tweets_econ[\"text_tokenised_freq\"]))\n",
    "\n",
    "def clean_word(word):\n",
    "    return re.sub('(@[A-Za-z0-9]+)|([^0-9A-Za-z \\t])|(\\w+:\\/\\/\\S+)', '-', word)\n",
    "\n",
    "freq_all = list(map(clean_word,freq_all))\n",
    "\n",
    "freq_all = [element for element in freq_all if element not in ['-','--','---','----']]\n",
    "\n"
   ]
  },
  {
   "cell_type": "code",
   "execution_count": 299,
   "metadata": {},
   "outputs": [],
   "source": [
    "# get most common 20 words\n",
    "\n",
    "common_words = list(nltk.FreqDist(freq_all))[0:23]"
   ]
  },
  {
   "cell_type": "code",
   "execution_count": 300,
   "metadata": {},
   "outputs": [],
   "source": [
    "# get common frequency words frequency\n",
    "common_words_freq = [freq_all.count(i) for i in common_words]\n"
   ]
  },
  {
   "cell_type": "code",
   "execution_count": 301,
   "metadata": {},
   "outputs": [],
   "source": [
    "# Append data to DataFrame\n",
    "\n",
    "df = pd.DataFrame(index = common_words, data = common_words_freq)"
   ]
  },
  {
   "cell_type": "code",
   "execution_count": 302,
   "metadata": {},
   "outputs": [
    {
     "data": {
      "image/png": "[encoded data removed]",
      "text/plain": [
       "<Figure size 432x288 with 1 Axes>"
      ]
     },
     "metadata": {},
     "output_type": "display_data"
    },
    {
     "data": {
      "text/plain": [
       "<matplotlib.axes._subplots.AxesSubplot at 0x1278f81ba30>"
      ]
     },
     "execution_count": 302,
     "metadata": {},
     "output_type": "execute_result"
    }
   ],
   "source": [
    "def freqdist(phrase):\n",
    "    \"\"\"Apply frequency distribution to the phrase\"\"\"\n",
    "    freqdist = nltk.FreqDist(phrase)\n",
    "    return freqdist.plot(23)\n",
    "\n",
    "freqdist(freq_all)"
   ]
  }
 ],
 "metadata": {
  "kernelspec": {
   "display_name": "Python 3",
   "language": "python",
   "name": "python3"
  },
  "language_info": {
   "codemirror_mode": {
    "name": "ipython",
    "version": 3
   },
   "file_extension": ".py",
   "mimetype": "text/x-python",
   "name": "python",
   "nbconvert_exporter": "python",
   "pygments_lexer": "ipython3",
   "version": "3.8.3"
  }
 },
 "nbformat": 4,
 "nbformat_minor": 4
}
